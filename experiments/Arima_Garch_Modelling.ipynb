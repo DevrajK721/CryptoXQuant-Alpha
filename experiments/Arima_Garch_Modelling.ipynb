{
 "cells": [
  {
   "cell_type": "markdown",
   "id": "846b819f",
   "metadata": {},
   "source": [
    "# ARIMA-GARCH Modelling Test Script"
   ]
  },
  {
   "cell_type": "markdown",
   "id": "7e5bea2a",
   "metadata": {},
   "source": []
  }
 ],
 "metadata": {
  "language_info": {
   "name": "python"
  }
 },
 "nbformat": 4,
 "nbformat_minor": 5
}
