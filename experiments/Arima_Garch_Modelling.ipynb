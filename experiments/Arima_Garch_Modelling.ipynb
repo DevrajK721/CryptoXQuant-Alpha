{
 "cells": [
  {
   "cell_type": "markdown",
   "id": "846b819f",
   "metadata": {},
   "source": [
    "# ARIMA-GARCH Modelling Test Script"
   ]
  },
  {
   "cell_type": "code",
   "execution_count": 4,
   "id": "7e5bea2a",
   "metadata": {},
   "outputs": [],
   "source": [
    "import pandas as pd\n",
    "from src import DataProcessor as DP\n",
    "from src.ARIMAGARCHPipeline import ARIMAGARCHPipeline as AGP\n",
    "import covcomp\n",
    "import warnings\n",
    "warnings.filterwarnings(\"ignore\")"
   ]
  },
  {
   "cell_type": "code",
   "execution_count": 5,
   "id": "6919a9dd",
   "metadata": {},
   "outputs": [
    {
     "name": "stdout",
     "output_type": "stream",
     "text": [
      "secrets.json file found at ../secrets/secretstest.json. Beginning initialization of DataProcessor class.\n",
      "Binance client initialized successfully.\n",
      "All required fields loaded successfully from secrets.json.\n",
      "2 tickers loaded successfully.\n",
      "Frequency: Daily\n",
      "Starting date: 2015-01-01\n",
      "Ending date: 2025-01-25\n",
      "Base currency: USDT\n",
      "Tickers: ['BTC', 'ETH']\n",
      "Initialization of DataProcessor class completed successfully.\n"
     ]
    },
    {
     "name": "stderr",
     "output_type": "stream",
     "text": [
      "Fetching Crypto Data: 100%|\u001b[34m██████████████████████████████\u001b[0m| 2/2 [00:00<00:00]\n"
     ]
    },
    {
     "name": "stdout",
     "output_type": "stream",
     "text": [
      "Data for BTCUSDT already exists at /Users/devrajkatkoria/Documents/CryptoXQuant-Alpha/data/BTCUSDT.csv. Skipping download.\n",
      "Data for ETHUSDT already exists at /Users/devrajkatkoria/Documents/CryptoXQuant-Alpha/data/ETHUSDT.csv. Skipping download.\n",
      "All crypto data and indicators fetched/computed successfully and transformed to be stationary.\n",
      "Fetching the last 51 data points for live data usage.\n"
     ]
    },
    {
     "name": "stderr",
     "output_type": "stream",
     "text": [
      "Fetching Live Data: 100%|\u001b[31m██████████████████████████████\u001b[0m| 2/2 [00:00<00:00]"
     ]
    },
    {
     "name": "stdout",
     "output_type": "stream",
     "text": [
      "All live data fetched successfully.\n",
      "Data processing completed successfully.\n",
      "Shrinkage‑adjusted covariance matrix:\n",
      "           BTCUSDT   ETHUSDT\n",
      "BTCUSDT  0.001393  0.001277\n",
      "ETHUSDT  0.001277  0.002148\n"
     ]
    },
    {
     "name": "stderr",
     "output_type": "stream",
     "text": [
      "\n"
     ]
    }
   ],
   "source": [
    "# Initialize and load all your processed data\n",
    "dp = DP.DataProcessor(secrets_path='../secrets/secretstest.json')\n",
    "\n",
    "# Build the “input dict” that covcomp expects:\n",
    "#    key = ticker, value = DataFrame with exactly ['Open Time','Covariance-LogDiff']\n",
    "cov_input = {\n",
    "    t: dp.crypto_data[t][['Open Time','Covariance-LogDiff']]\n",
    "    for t in dp.tickers\n",
    "}\n",
    "\n",
    "# Compute the shrinkage‑adjusted covariance matrix:\n",
    "#    You can tune `shrinkage` between 0 (no shrink) and 1 (full identity).\n",
    "cov_dict = covcomp.compute_covariance(cov_input, shrinkage=0.05)\n",
    "\n",
    "# Turn it into a DataFrame\n",
    "cov_df = pd.DataFrame.from_dict(\n",
    "    { t: dict(cov_dict[t]) for t in cov_dict }, \n",
    "    orient='index'\n",
    ")\n",
    "print(\"Shrinkage‑adjusted covariance matrix:\\n\", cov_df)"
   ]
  },
  {
   "cell_type": "code",
   "execution_count": 6,
   "id": "f175e546",
   "metadata": {},
   "outputs": [
    {
     "name": "stdout",
     "output_type": "stream",
     "text": [
      "\n",
      "== BTCUSDT ==\n",
      "  Best orders: (2, 0, 0) (1, 1)\n",
      "  AICs: -8606.666241642497 -9458.487544258216\n",
      "  Test MSE: 0.0007601042147540543\n",
      "  1σ coverage: 0.8454106280193237\n",
      "\n",
      "== ETHUSDT ==\n",
      "  Best orders: (0, 0, 2) (1, 2)\n",
      "  AICs: -7508.203629196962 -8224.5795648515\n",
      "  Test MSE: 0.001276531139702745\n",
      "  1σ coverage: 0.8442822384428224\n"
     ]
    }
   ],
   "source": [
    "results = {}\n",
    "\n",
    "for ticker, df in cov_input.items():\n",
    "    # instantiate the pipeline for this single-asset series\n",
    "    pipeline = AGP(df)\n",
    "    out = pipeline.run()\n",
    "    results[ticker] = out\n",
    "    print(f\"\\n== {ticker} ==\")\n",
    "    print(\"  Best orders:\",    out['arima_order'], out['garch_order'])\n",
    "    print(\"  AICs:\",           out['arima_aic'], out['garch_aic'])\n",
    "    print(\"  Test MSE:\",       out['test_mse'])\n",
    "    print(\"  1σ coverage:\",    out['1sigma_coverage'])"
   ]
  },
  {
   "cell_type": "markdown",
   "id": "87792f41",
   "metadata": {},
   "source": [
    "- Fit quality (AIC): good—orders are parsimonious and AICs are well below zero.\n",
    "- Point‐forecast accuracy (MSE): reasonable for ∼3 % daily moves.\n",
    "- Risk‐forecast calibration (coverage): too conservative at ±1 σ.\n"
   ]
  },
  {
   "cell_type": "code",
   "execution_count": null,
   "id": "aea456c0",
   "metadata": {},
   "outputs": [],
   "source": []
  },
  {
   "cell_type": "code",
   "execution_count": null,
   "id": "441ddb4f",
   "metadata": {},
   "outputs": [],
   "source": []
  },
  {
   "cell_type": "code",
   "execution_count": null,
   "id": "5f69f308",
   "metadata": {},
   "outputs": [],
   "source": []
  }
 ],
 "metadata": {
  "kernelspec": {
   "display_name": "Trading_Env",
   "language": "python",
   "name": "python3"
  },
  "language_info": {
   "codemirror_mode": {
    "name": "ipython",
    "version": 3
   },
   "file_extension": ".py",
   "mimetype": "text/x-python",
   "name": "python",
   "nbconvert_exporter": "python",
   "pygments_lexer": "ipython3",
   "version": "3.12.9"
  }
 },
 "nbformat": 4,
 "nbformat_minor": 5
}
